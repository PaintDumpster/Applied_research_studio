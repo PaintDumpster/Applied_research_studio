{
 "cells": [
  {
   "cell_type": "markdown",
   "metadata": {},
   "source": [
    "# IMPORTS"
   ]
  },
  {
   "cell_type": "code",
   "execution_count": 1,
   "metadata": {},
   "outputs": [],
   "source": [
    "import cv2\n",
    "import os\n",
    "from PIL import Image\n",
    "import pytesseract"
   ]
  },
  {
   "cell_type": "markdown",
   "metadata": {},
   "source": [
    "# FUNCTIONS"
   ]
  },
  {
   "cell_type": "code",
   "execution_count": null,
   "metadata": {},
   "outputs": [],
   "source": [
    "def extract_metadata(image_path):\n",
    "    # Load image\n",
    "    image = cv2.imread(image_path, cv2.IMREAD_GRAYSCALE)\n",
    "    \n",
    "    # Calculate metadata (example: average elevation)\n",
    "    avg_elevation = cv2.mean(image)[0]\n",
    "    \n",
    "    # Extract title using OCR (e.g., Tesseract OCR)\n",
    "    title_image = Image.open(image_path)\n",
    "    title_text = pytesseract.image_to_string(title_image)\n",
    "    \n",
    "    metadata = {\n",
    "        \"title\": title_text.strip(),\n",
    "        \"average_elevation\": avg_elevation\n",
    "    }\n",
    "    \n",
    "    return metadata"
   ]
  },
  {
   "cell_type": "code",
   "execution_count": null,
   "metadata": {},
   "outputs": [],
   "source": [
    "def generate_metadata(directory):\n",
    "    metadata_list = []\n",
    "    for filename in os.listdir(directory):\n",
    "        if filename.endswith((\".png\", \".jpg\", \".jpeg\")):\n",
    "            image_path = os.path.join(directory, filename)\n",
    "            metadata = extract_metadata(image_path)\n",
    "            metadata_list.append(metadata)\n",
    "    return metadata_list"
   ]
  },
  {
   "cell_type": "code",
   "execution_count": null,
   "metadata": {},
   "outputs": [],
   "source": [
    "def save_metadata_to_file(metadata_list, output_file):\n",
    "    with open(output_file, 'w') as f:\n",
    "        for filename, metadata in metadata_list:\n",
    "            f.write(f\"Filename: {filename}\\n\")\n",
    "            f.write(f\"Title: {metadata['title']}\\n\")\n",
    "            f.write(f\"Average Elevation: {metadata['average_elevation']}\\n\")\n",
    "            f.write(\"\\n\")"
   ]
  },
  {
   "cell_type": "markdown",
   "metadata": {},
   "source": [
    "# MAIN"
   ]
  },
  {
   "cell_type": "code",
   "execution_count": null,
   "metadata": {},
   "outputs": [],
   "source": [
    "# Directory containing your images\n",
    "image_directory = 'path/to/your/images'\n",
    "# Output file for metadata\n",
    "output_file = 'metadata.txt'\n",
    "\n",
    "# Generate and save metadata\n",
    "metadata = generate_metadata(image_directory)\n",
    "save_metadata_to_file(metadata, output_file)\n",
    "\n",
    "print(f\"Metadata saved to {output_file}\")"
   ]
  }
 ],
 "metadata": {
  "kernelspec": {
   "display_name": "amoebas_venv",
   "language": "python",
   "name": "python3"
  },
  "language_info": {
   "codemirror_mode": {
    "name": "ipython",
    "version": 3
   },
   "file_extension": ".py",
   "mimetype": "text/x-python",
   "name": "python",
   "nbconvert_exporter": "python",
   "pygments_lexer": "ipython3",
   "version": "3.12.6"
  }
 },
 "nbformat": 4,
 "nbformat_minor": 2
}
