{
  "cells": [
    {
      "cell_type": "code",
      "execution_count": 3,
      "metadata": {
        "colab": {
          "base_uri": "https://localhost:8080/",
          "height": 17
        },
        "id": "dHvWNvdRuKnw",
        "outputId": "a851df9a-984d-4c10-b1cd-06f0bdf8acca"
      },
      "outputs": [
        {
          "ename": "ModuleNotFoundError",
          "evalue": "No module named 'cv2'",
          "output_type": "error",
          "traceback": [
            "\u001b[1;31m---------------------------------------------------------------------------\u001b[0m",
            "\u001b[1;31mModuleNotFoundError\u001b[0m                       Traceback (most recent call last)",
            "Cell \u001b[1;32mIn[3], line 1\u001b[0m\n\u001b[1;32m----> 1\u001b[0m \u001b[38;5;28;01mimport\u001b[39;00m \u001b[38;5;21;01mcv2\u001b[39;00m\n\u001b[0;32m      2\u001b[0m \u001b[38;5;28;01mimport\u001b[39;00m \u001b[38;5;21;01mos\u001b[39;00m\n\u001b[0;32m      3\u001b[0m \u001b[38;5;28;01mimport\u001b[39;00m \u001b[38;5;21;01mtime\u001b[39;00m\n",
            "\u001b[1;31mModuleNotFoundError\u001b[0m: No module named 'cv2'"
          ]
        }
      ],
      "source": [
        "import cv2\n",
        "import os\n",
        "import time\n",
        "import matplotlib as plt\n",
        "import numpy as np\n",
        "import osmnx\n",
        "from geopy.geocoders import Nominatim\n",
        "import ee\n",
        "import geemap\n",
        "import rasterio\n",
        "from PIL import Image\n",
        "import pandas as pd\n",
        "import osmnx as ox\n",
        "import matplotlib.pyplot as plt"
      ]
    },
    {
      "cell_type": "code",
      "execution_count": 18,
      "metadata": {
        "colab": {
          "base_uri": "https://localhost:8080/",
          "height": 17
        },
        "id": "eIFOedt8tsZz",
        "outputId": "7f2b0c28-f509-4a44-c7b7-93f9f95719df"
      },
      "outputs": [
        {
          "data": {
            "text/html": [
              "\n",
              "            <style>\n",
              "                .geemap-dark {\n",
              "                    --jp-widgets-color: white;\n",
              "                    --jp-widgets-label-color: white;\n",
              "                    --jp-ui-font-color1: white;\n",
              "                    --jp-layout-color2: #454545;\n",
              "                    background-color: #383838;\n",
              "                }\n",
              "\n",
              "                .geemap-dark .jupyter-button {\n",
              "                    --jp-layout-color3: #383838;\n",
              "                }\n",
              "\n",
              "                .geemap-colab {\n",
              "                    background-color: var(--colab-primary-surface-color, white);\n",
              "                }\n",
              "\n",
              "                .geemap-colab .jupyter-button {\n",
              "                    --jp-layout-color3: var(--colab-primary-surface-color, white);\n",
              "                }\n",
              "            </style>\n",
              "            "
            ],
            "text/plain": [
              "<IPython.core.display.HTML object>"
            ]
          },
          "metadata": {},
          "output_type": "display_data"
        }
      ],
      "source": [
        "## gee credentials\n",
        "\n",
        "# Authenticate and initialize\n",
        "ee.Authenticate()  # Run this only once; follow the on-screen instructions\n",
        "# Explicitly set the project ID\n",
        "ee.Initialize(project='ee-salvadorcantuarias') # Replace 'your-project-id' with your actual Google Cloud project ID"
      ]
    },
    {
      "cell_type": "code",
      "execution_count": 19,
      "metadata": {
        "colab": {
          "base_uri": "https://localhost:8080/",
          "height": 17
        },
        "id": "5LzbT6lgtvMc",
        "outputId": "6f848404-34cd-44a4-de8b-ba4054c4e12b"
      },
      "outputs": [
        {
          "data": {
            "text/html": [
              "\n",
              "            <style>\n",
              "                .geemap-dark {\n",
              "                    --jp-widgets-color: white;\n",
              "                    --jp-widgets-label-color: white;\n",
              "                    --jp-ui-font-color1: white;\n",
              "                    --jp-layout-color2: #454545;\n",
              "                    background-color: #383838;\n",
              "                }\n",
              "\n",
              "                .geemap-dark .jupyter-button {\n",
              "                    --jp-layout-color3: #383838;\n",
              "                }\n",
              "\n",
              "                .geemap-colab {\n",
              "                    background-color: var(--colab-primary-surface-color, white);\n",
              "                }\n",
              "\n",
              "                .geemap-colab .jupyter-button {\n",
              "                    --jp-layout-color3: var(--colab-primary-surface-color, white);\n",
              "                }\n",
              "            </style>\n",
              "            "
            ],
            "text/plain": [
              "<IPython.core.display.HTML object>"
            ]
          },
          "metadata": {},
          "output_type": "display_data"
        }
      ],
      "source": [
        "# Step 1: Get OSM Bounding Box for Both OSMnx & GEE\n",
        "def get_osm_boundary(city_name):\n",
        "    geolocator = Nominatim(user_agent=\"geoapi\", timeout=10)\n",
        "    try:\n",
        "        location = geolocator.geocode(city_name, exactly_one=True)\n",
        "        if location:\n",
        "            bbox = location.raw.get('boundingbox', None)\n",
        "            if bbox:\n",
        "                # The bounding box from Nominatim is [lat_min, lat_max, lon_min, lon_max]\n",
        "                lat_min, lat_max, lon_min, lon_max = map(float, bbox)\n",
        "                return {\n",
        "                    \"bbox\": (lon_min, lat_min, lon_max, lat_max),\n",
        "                    \"gee_rectangle\": ee.Geometry.BBox(lon_min, lat_min, lon_max, lat_max)  # (west, south, east, north)\n",
        "                }\n",
        "    except Exception as e:\n",
        "        print(f\"Error fetching bbox for {city_name}: {e}\")\n",
        "    return None"
      ]
    },
    {
      "cell_type": "code",
      "execution_count": null,
      "metadata": {
        "colab": {
          "base_uri": "https://localhost:8080/",
          "height": 17
        },
        "id": "xXdzyJDutxjL",
        "outputId": "d496008a-d309-44b5-bc9d-4bd83c0d266c"
      },
      "outputs": [
        {
          "data": {
            "text/html": [
              "\n",
              "            <style>\n",
              "                .geemap-dark {\n",
              "                    --jp-widgets-color: white;\n",
              "                    --jp-widgets-label-color: white;\n",
              "                    --jp-ui-font-color1: white;\n",
              "                    --jp-layout-color2: #454545;\n",
              "                    background-color: #383838;\n",
              "                }\n",
              "\n",
              "                .geemap-dark .jupyter-button {\n",
              "                    --jp-layout-color3: #383838;\n",
              "                }\n",
              "\n",
              "                .geemap-colab {\n",
              "                    background-color: var(--colab-primary-surface-color, white);\n",
              "                }\n",
              "\n",
              "                .geemap-colab .jupyter-button {\n",
              "                    --jp-layout-color3: var(--colab-primary-surface-color, white);\n",
              "                }\n",
              "            </style>\n",
              "            "
            ],
            "text/plain": [
              "<IPython.core.display.HTML object>"
            ]
          },
          "metadata": {},
          "output_type": "display_data"
        }
      ],
      "source": [
        "\n",
        "# Step 2: Generate Street Layout Using OSMnx\n",
        "def generate_street_layout(city_name):\n",
        "    boundary_data = get_osm_boundary(city_name)\n",
        "    if boundary_data is None:\n",
        "        print(f\"❌ Error: Could not find {city_name} boundary in OSM.\")\n",
        "        return None, None\n",
        "\n",
        "    print(f\"✅ City boundary found! Clipping street network to {city_name}...\")\n",
        "    lat_min, lat_max, lon_min, lon_max = boundary_data[\"bbox\"]\n",
        "\n",
        "    # OSMnx expects (north, south, east, west)\n",
        "    graph = ox.graph_from_bbox(boundary_data[\"bbox\"], network_type='drive')\n",
        "\n",
        "    # 🚀 Reproject to EPSG:3857 (Web Mercator) to match NASADEM projection\n",
        "    graph_projected = ox.project_graph(graph, to_crs=\"EPSG:3857\")\n",
        "    \n",
        "    # Plot the graph\n",
        "    fig, ax = ox.plot_graph(\n",
        "        graph, node_size=0, bgcolor='#FFFFFF',\n",
        "        edge_color='#000000', edge_linewidth=0.2,\n",
        "        show=False, close=False\n",
        "    )\n",
        "        # Save image\n",
        "    output_dir = \"street_img/\"\n",
        "    os.makedirs(output_dir, exist_ok=True)\n",
        "    image_path = os.path.join(output_dir, f\"{city_name}_street_network.png\")\n",
        "    fig.savefig(image_path, dpi=400, bbox_inches='tight')\n",
        "    print(f\"📷 Saved street network: {image_path}\")\n",
        "\n",
        "    return fig, ax"
      ]
    },
    {
      "cell_type": "code",
      "execution_count": null,
      "metadata": {
        "colab": {
          "base_uri": "https://localhost:8080/",
          "height": 17
        },
        "id": "1_X0pI_It5Xs",
        "outputId": "7aa778d1-2832-4771-8218-563afcb0a7b0"
      },
      "outputs": [
        {
          "data": {
            "text/html": [
              "\n",
              "            <style>\n",
              "                .geemap-dark {\n",
              "                    --jp-widgets-color: white;\n",
              "                    --jp-widgets-label-color: white;\n",
              "                    --jp-ui-font-color1: white;\n",
              "                    --jp-layout-color2: #454545;\n",
              "                    background-color: #383838;\n",
              "                }\n",
              "\n",
              "                .geemap-dark .jupyter-button {\n",
              "                    --jp-layout-color3: #383838;\n",
              "                }\n",
              "\n",
              "                .geemap-colab {\n",
              "                    background-color: var(--colab-primary-surface-color, white);\n",
              "                }\n",
              "\n",
              "                .geemap-colab .jupyter-button {\n",
              "                    --jp-layout-color3: var(--colab-primary-surface-color, white);\n",
              "                }\n",
              "            </style>\n",
              "            "
            ],
            "text/plain": [
              "<IPython.core.display.HTML object>"
            ]
          },
          "metadata": {},
          "output_type": "display_data"
        }
      ],
      "source": [
        "\n",
        "# Step 3: Generate Elevation as a NumPy Array from NASADEM in GEE\n",
        "def generate_elevation_numpy(city_name):\n",
        "    print(f\"🔍 Searching for {city_name} in OpenStreetMap...\")\n",
        "    boundary_data = get_osm_boundary(city_name)\n",
        "    if boundary_data is None:\n",
        "        print(f\"❌ Error: Could not find {city_name} boundary in OSM.\")\n",
        "        return None, None\n",
        "    gee_rectangle = boundary_data[\"gee_rectangle\"]\n",
        "\n",
        "    print(f\"✅ City boundary found! Clipping elevation map to {city_name}...\")\n",
        "\n",
        "    # Load the NASADEM elevation dataset\n",
        "    dataset = ee.Image('NASA/NASADEM_HGT/001')\n",
        "    elevation = dataset.select('elevation')\n",
        "\n",
        "        # Reproject to match OSM's Web Mercator (EPSG:3857)\n",
        "    osm_projection = ee.Projection('EPSG:3857')\n",
        "    elevation_reprojected = elevation.reproject(crs=osm_projection, scale=100)\n",
        "\n",
        "    # Clip the elevation data to the city's bounding box\n",
        "    elevation_city = elevation.clip(gee_rectangle)\n",
        "\n",
        "    # Define export file paths\n",
        "    tif_file = f\"elevation_img/elevation_tif/{city_name}_elevation.tif\"\n",
        "    png_file = f\"elevation_img/elevation_png/{city_name}_elevation.png\"\n",
        "    npy_file = f\"elevation_img/elevation_npy/{city_name}_elevation.npy\"\n",
        "\n",
        "    # Export the elevation map as GeoTIFF\n",
        "    geemap.ee_export_image(\n",
        "        elevation_city, filename=tif_file, region=gee_rectangle, file_per_band=False\n",
        "    )\n",
        "    print(f\"✅ GeoTIFF saved: {tif_file}\")\n",
        "\n",
        "    # Convert GeoTIFF to PNG & NumPy Array\n",
        "    if os.path.exists(tif_file):\n",
        "        with rasterio.open(tif_file) as src:\n",
        "            array = src.read(1)  # Read first band\n",
        "\n",
        "            # Replace NoData values with 0 if needed\n",
        "            if src.nodata is not None:\n",
        "                array[array == src.nodata] = 0\n",
        "\n",
        "            # Save as NumPy array for AI processing\n",
        "            np.save(npy_file, array)\n",
        "            print(f\"✅ NumPy array saved: {npy_file}\")\n",
        "\n",
        "            # Normalize elevation values (0-255 grayscale) for visualization\n",
        "            min_val, max_val = np.percentile(array, (2, 98))\n",
        "            normalized_array = ((array - min_val) / (max_val - min_val)) * 255\n",
        "            normalized_array = np.clip(normalized_array, 0, 255).astype(np.uint8)\n",
        "\n",
        "            # Convert to grayscale image\n",
        "            img = Image.fromarray(normalized_array)\n",
        "            img = img.convert(\"L\")\n",
        "            img.save(png_file)\n",
        "\n",
        "            # Show the processed elevation map\n",
        "            plt.figure(figsize=(8, 8))\n",
        "            plt.imshow(img, cmap=\"gray\")\n",
        "            plt.axis(\"off\")\n",
        "            plt.title(f\"{city_name} Elevation Map\")\n",
        "            plt.show()\n",
        "        print(f\"✅ PNG saved: {png_file}\")\n",
        "\n",
        "        return npy_file, png_file\n",
        "    else:\n",
        "        print(\"❌ Error: GeoTIFF file not found.\")\n",
        "        return None, None"
      ]
    },
    {
      "cell_type": "code",
      "execution_count": null,
      "metadata": {
        "colab": {
          "base_uri": "https://localhost:8080/",
          "height": 17
        },
        "id": "dVpEPujut9CU",
        "outputId": "431ed398-f17e-4f89-e82b-5be346a22e17"
      },
      "outputs": [
        {
          "data": {
            "text/html": [
              "\n",
              "            <style>\n",
              "                .geemap-dark {\n",
              "                    --jp-widgets-color: white;\n",
              "                    --jp-widgets-label-color: white;\n",
              "                    --jp-ui-font-color1: white;\n",
              "                    --jp-layout-color2: #454545;\n",
              "                    background-color: #383838;\n",
              "                }\n",
              "\n",
              "                .geemap-dark .jupyter-button {\n",
              "                    --jp-layout-color3: #383838;\n",
              "                }\n",
              "\n",
              "                .geemap-colab {\n",
              "                    background-color: var(--colab-primary-surface-color, white);\n",
              "                }\n",
              "\n",
              "                .geemap-colab .jupyter-button {\n",
              "                    --jp-layout-color3: var(--colab-primary-surface-color, white);\n",
              "                }\n",
              "            </style>\n",
              "            "
            ],
            "text/plain": [
              "<IPython.core.display.HTML object>"
            ]
          },
          "metadata": {},
          "output_type": "display_data"
        }
      ],
      "source": [
        "\n",
        "# Step 4: Overlay Elevation and Street Layout Maps\n",
        "def overlay_maps(city_name):\n",
        "    elevation_file = f\"elevation_img/elevation_png/{city_name}_elevation.png\"\n",
        "    street_file = f\"street_img/{city_name}_street_network.png\"\n",
        "    overlay_file = f\"overlay_img/{city_name}_overlay.png\"\n",
        "\n",
        "    if not os.path.exists(elevation_file):\n",
        "        print(f\"❌ Error: Elevation map for {city_name} not found!\")\n",
        "        return None\n",
        "    if not os.path.exists(street_file):\n",
        "        print(f\"❌ Error: Street layout for {city_name} not found!\")\n",
        "        return None\n",
        "\n",
        "    # Load images\n",
        "    elevation_img = cv2.imread(elevation_file, cv2.IMREAD_GRAYSCALE)  # Grayscale elevation\n",
        "    street_img = cv2.imread(street_file, cv2.IMREAD_UNCHANGED)          # Color street layout\n",
        "\n",
        "    # Resize elevation image to match street image dimensions if needed\n",
        "    elevation_resized = cv2.resize(elevation_img, (street_img.shape[1], street_img.shape[0]))\n",
        "    elevation_colored = cv2.cvtColor(elevation_resized, cv2.COLOR_GRAY2BGR)\n",
        "\n",
        "    # Extract street edges and create an overlay (red edges)\n",
        "    street_gray = cv2.cvtColor(street_img, cv2.COLOR_BGR2GRAY)\n",
        "    _, street_edges = cv2.threshold(street_gray, 200, 255, cv2.THRESH_BINARY_INV)  # Detect full streets\n",
        "    street_overlay = np.zeros_like(elevation_colored)\n",
        "    street_overlay[street_edges ==255] = (0, 0, 255)  # Red color for streets\n",
        "\n",
        "    # Directly replace street pixels in the elevation image (no blending)\n",
        "    overlay_result = elevation_colored.copy()\n",
        "    overlay_result[street_edges == 255] = (0, 0, 255)  # Apply red only to street lines\n",
        "    cv2.imwrite(overlay_file, overlay_result)\n",
        "    print(f\"✅ Overlay saved: {overlay_file}\")\n",
        "\n",
        "    plt.figure(figsize=(8, 8))\n",
        "    plt.imshow(cv2.cvtColor(overlay_result, cv2.COLOR_BGR2RGB))\n",
        "    plt.axis(\"off\")\n",
        "    plt.title(f\"Overlay of {city_name} Elevation & Streets\")\n",
        "    #plt.show()\n",
        "    return overlay_file\n"
      ]
    },
    {
      "cell_type": "code",
      "execution_count": null,
      "metadata": {
        "colab": {
          "base_uri": "https://localhost:8080/",
          "height": 705
        },
        "id": "G9Dsj2Djt_t7",
        "outputId": "1f78efcc-6c7d-4e6f-db18-f4a4bf26acd0"
      },
      "outputs": [],
      "source": [
        "df = pd.read_csv('cities_list.csv')\n",
        "cities_list = df['City, Country'].tolist()\n",
        "\n",
        "for city in cities_list:\n",
        "    print(f\"\\n🌍 Processing: {city}...\\n\")\n",
        "\n",
        "    try:\n",
        "        # Define file paths\n",
        "        elevation_file = f\"rcs/elevation_img/elevation_png/{city}_elevation.png\"\n",
        "        street_file = f\"rcs/street_img/{city}_street_network.png\"\n",
        "        overlay_file = f\"rcs/overlay_img/{city}_overlay.png\"\n",
        "        npy_file = f\"rcs/elevation_img/elevation_png/{city}_elevation.npy\"\n",
        "\n",
        "        # ✅ Check if files already exist to skip processing\n",
        "        if os.path.exists(overlay_file):\n",
        "            print(f\"⚠️ {city} already processed, skipping...\")\n",
        "            continue\n",
        "\n",
        "        # ✅ Generate Topography (Elevation) Map\n",
        "        print(\"🔄 Generating elevation map...\")\n",
        "        elevation_result = generate_elevation_numpy(city)\n",
        "        if elevation_result is None:\n",
        "            print(f\"⚠️ Skipping {city} due to missing elevation data.\")\n",
        "            continue\n",
        "\n",
        "        # ✅ Generate Street Layout Map\n",
        "        print(\"🔄 Generating street layout map...\")\n",
        "        street_result = generate_street_layout(city)\n",
        "        if street_result is None:\n",
        "            print(f\"⚠️ Skipping {city} due to missing street data.\")\n",
        "            continue\n",
        "\n",
        "        # ✅ Generate Overlay of Topography & Street Layout\n",
        "        print(\"🔄 Generating overlay map...\")\n",
        "        overlay_result = overlay_maps(city)\n",
        "        if overlay_result is None:\n",
        "            print(f\"⚠️ Skipping {city} due to overlay generation failure.\")\n",
        "            continue\n",
        "\n",
        "        print(f\"✅ Completed: {city} ✅\\n\")\n",
        "\n",
        "        # ✅ Add a short delay to avoid API rate limits\n",
        "        time.sleep(2)\n",
        "\n",
        "    except Exception as e:\n",
        "        print(f\"❌ Error processing {city}: {e}\")"
      ]
    }
  ],
  "metadata": {
    "colab": {
      "provenance": []
    },
    "kernelspec": {
      "display_name": "base",
      "language": "python",
      "name": "python3"
    },
    "language_info": {
      "codemirror_mode": {
        "name": "ipython",
        "version": 3
      },
      "file_extension": ".py",
      "mimetype": "text/x-python",
      "name": "python",
      "nbconvert_exporter": "python",
      "pygments_lexer": "ipython3",
      "version": "3.12.7"
    }
  },
  "nbformat": 4,
  "nbformat_minor": 0
}
